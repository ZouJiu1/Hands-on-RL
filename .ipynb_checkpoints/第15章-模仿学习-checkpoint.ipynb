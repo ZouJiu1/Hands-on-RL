{
 "cells": [
  {
   "cell_type": "code",
   "execution_count": 1,
   "metadata": {
    "colab": {
     "base_uri": "https://localhost:8080/"
    },
    "executionInfo": {
     "elapsed": 17634,
     "status": "ok",
     "timestamp": 1649956504817,
     "user": {
      "displayName": "Sam Lu",
      "userId": "15789059763790170725"
     },
     "user_tz": -480
    },
    "id": "Q0_qiuMECqjn",
    "outputId": "e923fc32-68ab-48ba-97ca-2e169458759b"
   },
   "outputs": [
    {
     "name": "stderr",
     "output_type": "stream",
     "text": [
      "Iteration 0:   0%|                                                                              | 0/25 [00:00<?, ?it/s]C:\\Users\\10696\\AppData\\Local\\Temp\\ipykernel_7672\\1223747720.py:57: UserWarning: Creating a tensor from a list of numpy.ndarrays is extremely slow. Please consider converting the list to a single numpy.ndarray with numpy.array() before converting to a tensor. (Triggered internally at ..\\torch\\csrc\\utils\\tensor_new.cpp:248.)\n",
      "  state = torch.tensor([state], dtype=torch.float).to(self.device)\n",
      "Iteration 0: 100%|██████████████████████████████████████████| 25/25 [00:02<00:00,  9.07it/s, episode=20, return=54.700]\n",
      "Iteration 1: 100%|█████████████████████████████████████████| 25/25 [00:15<00:00,  1.64it/s, episode=45, return=163.700]\n",
      "Iteration 2: 100%|█████████████████████████████████████████| 25/25 [00:19<00:00,  1.31it/s, episode=70, return=235.400]\n",
      "Iteration 3: 100%|█████████████████████████████████████████| 25/25 [00:12<00:00,  1.97it/s, episode=95, return=269.700]\n",
      "Iteration 4: 100%|████████████████████████████████████████| 25/25 [00:16<00:00,  1.50it/s, episode=120, return=463.500]\n",
      "Iteration 5: 100%|████████████████████████████████████████| 25/25 [00:21<00:00,  1.15it/s, episode=145, return=437.500]\n",
      "Iteration 6: 100%|████████████████████████████████████████| 25/25 [00:33<00:00,  1.33s/it, episode=170, return=500.000]\n",
      "Iteration 7: 100%|████████████████████████████████████████| 25/25 [00:30<00:00,  1.23s/it, episode=195, return=500.000]\n",
      "Iteration 8: 100%|████████████████████████████████████████| 25/25 [00:21<00:00,  1.16it/s, episode=220, return=425.200]\n",
      "Iteration 9: 100%|████████████████████████████████████████| 25/25 [00:26<00:00,  1.05s/it, episode=245, return=383.300]\n"
     ]
    }
   ],
   "source": [
    "import gymnasium as gym\n",
    "import torch\n",
    "import torch.nn.functional as F\n",
    "import torch.nn as nn\n",
    "import numpy as np\n",
    "import matplotlib.pyplot as plt\n",
    "from tqdm import tqdm\n",
    "import random\n",
    "import rl_utils\n",
    "from tqdm import tqdm\n",
    "import imageio\n",
    "\n",
    "## 构造智能体 agent 的大脑，也就是输入状态，返回该状态下，选择每个动作的概率\n",
    "## 输入是状态的，也就是 (车子center-point的坐标，车子的速度，杆的竖直角度，杆的角速度)\n",
    "## 返回值应该是2 dim\n",
    "class PolicyNet(torch.nn.Module):\n",
    "    def __init__(self, state_dim, hidden_dim, action_dim):\n",
    "        super(PolicyNet, self).__init__()\n",
    "        self.fc1 = torch.nn.Linear(state_dim, hidden_dim)\n",
    "        self.fc2 = torch.nn.Linear(hidden_dim, action_dim)\n",
    "\n",
    "    def forward(self, x):\n",
    "        x = F.relu(self.fc1(x))\n",
    "        return F.softmax(self.fc2(x), dim=1)  ## 返回该状态下，选择的动作的概率\n",
    "\n",
    "## 构造智能体 agent 的大脑，也就是输入状态，返回该状态下，每个动作的动作价值\n",
    "## 输入是状态的，也就是 (车子center-point的坐标，车子的速度，杆的竖直角度，杆的角速度)\n",
    "## 返回值应该是2 dim\n",
    "class ValueNet(torch.nn.Module):\n",
    "    def __init__(self, state_dim, hidden_dim):\n",
    "        super(ValueNet, self).__init__()\n",
    "        self.fc1 = torch.nn.Linear(state_dim, hidden_dim)\n",
    "        self.fc2 = torch.nn.Linear(hidden_dim, 1)\n",
    "\n",
    "    def forward(self, x):\n",
    "        x = F.relu(self.fc1(x))\n",
    "        return self.fc2(x)\n",
    "\n",
    "## 首先使用强化学习算法 PPO 来训练专家策略，然后用来采样的，产生专家数据\n",
    "class PPO:\n",
    "    ''' PPO算法,采用截断方式 '''\n",
    "    def __init__(self, state_dim, hidden_dim, action_dim, actor_lr, critic_lr,\n",
    "                 lmbda, epochs, eps, gamma, device):\n",
    "        self.actor = PolicyNet(state_dim, hidden_dim, action_dim).to(device)  ##  策略网络的\n",
    "        self.critic = ValueNet(state_dim, hidden_dim).to(device)  ##  价值网络\n",
    "        self.actor_optimizer = torch.optim.Adam(self.actor.parameters(),\n",
    "                                                lr=actor_lr)  ##  函数配置优化器\n",
    "        self.critic_optimizer = torch.optim.Adam(self.critic.parameters(),\n",
    "                                                 lr=critic_lr)  ##  价值函数配置优化器\n",
    "        self.gamma = gamma   ## 衰减因子的呢\n",
    "        self.lmbda = lmbda\n",
    "        self.epochs = epochs  # 一条序列的数据用于训练轮数\n",
    "        self.eps = eps  # PPO中截断范围的参数\n",
    "        self.device = device\n",
    "\n",
    "    def take_action(self, state):            # 根据动作概率分布随机采样\n",
    "        state = torch.tensor([state], dtype=torch.float).to(self.device)\n",
    "        probs = self.actor(state)       ## 拿到该状态下，每个动作的选择概率\n",
    "        action_dist = torch.distributions.Categorical(probs)    ##   配置 好采样的概率\n",
    "        action = action_dist.sample()        ## 对该状态下，所有的动作采样，采样的概率是probs\n",
    "        return action.item()                 ## 返回依概率采样得到的动作\n",
    "\n",
    "    def update(self, transition_dict):\n",
    "        ## 拿到这条序列内的 奖励、状态和动作，下一个状态、是否完成的\n",
    "        states = torch.tensor(transition_dict['states'],\n",
    "                              dtype=torch.float).to(self.device)\n",
    "        actions = torch.tensor(transition_dict['actions']).view(-1, 1).to(\n",
    "            self.device)\n",
    "        rewards = torch.tensor(transition_dict['rewards'],\n",
    "                               dtype=torch.float).view(-1, 1).to(self.device)\n",
    "        next_states = torch.tensor(transition_dict['next_states'],\n",
    "                                   dtype=torch.float).to(self.device)\n",
    "        dones = torch.tensor(transition_dict['dones'],\n",
    "                             dtype=torch.float).view(-1, 1).to(self.device)\n",
    "        ## 用下个状态求下一个状态的状态动作价值，然后间接求出当前状态的状态动作价值\n",
    "        td_target = rewards + self.gamma * self.critic(next_states) * (1 -\n",
    "                                                                       dones)\n",
    "        ## 间接求出的价值 - 直接求出的当前状态的状态动作价值，也就是 TD-error，或者是优势函数 A\n",
    "        td_delta = td_target - self.critic(states)\n",
    "        ##  算出优势函数，广义优势估计，也就是每一步优势的均值\n",
    "        advantage = rl_utils.compute_advantage(self.gamma, self.lmbda,\n",
    "                                               td_delta.cpu()).to(self.device)\n",
    "        ## 选择的旧动作概率的log值，不反向传播求梯度，detach\n",
    "        old_log_probs = torch.log(self.actor(states).gather(1,\n",
    "                                                            actions)).detach()\n",
    "\n",
    "        for _ in range(self.epochs):\n",
    "            ## 选择的动作概率的log值，不反向传播求梯度，detach\n",
    "            log_probs = torch.log(self.actor(states).gather(1, actions))\n",
    "            ratio = torch.exp(log_probs - old_log_probs)   ## 算重要性采样\n",
    "            surr1 = ratio * advantage ## 重要性采样和优势估计相乘的\n",
    "            surr2 = torch.clamp(ratio, 1 - self.eps,\n",
    "                                1 + self.eps) * advantage  # 截断\n",
    "            actor_loss = torch.mean(-torch.min(surr1, surr2))  # PPO损失函数\n",
    "            ## 直接求出当前状态的状态动作价值，和 间接求出的价值，使用 MSE 来算损失函数的，td_target不反向传播求梯度，detach\n",
    "            critic_loss = torch.mean(\n",
    "                F.mse_loss(self.critic(states), td_target.detach()))\n",
    "            self.actor_optimizer.zero_grad()\n",
    "            self.critic_optimizer.zero_grad()  ## 价值网络的参数梯度置零的\n",
    "            actor_loss.backward()\n",
    "            critic_loss.backward()   ## 价值网络的损失loss反向传播梯度\n",
    "            self.actor_optimizer.step()\n",
    "            self.critic_optimizer.step()   # 更新价值函数\n",
    "\n",
    "actor_lr = 1e-3\n",
    "critic_lr = 1e-2\n",
    "num_episodes = 250\n",
    "hidden_dim = 128\n",
    "gamma = 0.98\n",
    "lmbda = 0.95\n",
    "epochs = 10\n",
    "eps = 0.2\n",
    "device = torch.device(\"cuda\") if torch.cuda.is_available() else torch.device(\n",
    "    \"cpu\")\n",
    "\n",
    "env_name = 'CartPole-v1'\n",
    "env = gym.make(env_name, render_mode=\"rgb_array\")\n",
    "_ = env.reset(seed=0)\n",
    "torch.manual_seed(0)\n",
    "state_dim = env.observation_space.shape[0]\n",
    "action_dim = env.action_space.n\n",
    "ppo_agent = PPO(state_dim, hidden_dim, action_dim, actor_lr, critic_lr, lmbda,\n",
    "                epochs, eps, gamma, device)\n",
    "## 使用 PPO 来训练专家策略的\n",
    "return_list = rl_utils.train_on_policy_agent(env, ppo_agent, num_episodes)\n",
    "\n",
    "# Iteration 0: 100%|██████████| 25/25 [00:00<00:00, 32.56it/s, episode=20,\n",
    "# return=40.700]\n",
    "# Iteration 1: 100%|██████████| 25/25 [00:09<00:00,  2.75it/s, episode=45,\n",
    "# return=182.800]\n",
    "# Iteration 2: 100%|██████████| 25/25 [00:11<00:00,  2.27it/s, episode=70,\n",
    "# return=176.100]\n",
    "# Iteration 3: 100%|██████████| 25/25 [00:11<00:00,  2.16it/s, episode=95,\n",
    "# return=194.500]\n",
    "# Iteration 4: 100%|██████████| 25/25 [00:11<00:00,  2.08it/s, episode=120,\n",
    "# return=180.600]\n",
    "# Iteration 5: 100%|██████████| 25/25 [00:12<00:00,  2.03it/s, episode=145,\n",
    "# return=200.000]\n",
    "# Iteration 6: 100%|██████████| 25/25 [00:11<00:00,  2.08it/s, episode=170,\n",
    "# return=185.700]\n",
    "# Iteration 7: 100%|██████████| 25/25 [00:11<00:00,  2.14it/s, episode=195,\n",
    "# return=200.000]\n",
    "# Iteration 8: 100%|██████████| 25/25 [00:12<00:00,  2.05it/s, episode=220,\n",
    "# return=200.000]\n",
    "# Iteration 9: 100%|██████████| 25/25 [00:11<00:00,  2.27it/s, episode=245,\n",
    "# return=196.900]"
   ]
  },
  {
   "cell_type": "code",
   "execution_count": 2,
   "metadata": {
    "executionInfo": {
     "elapsed": 524,
     "status": "ok",
     "timestamp": 1649956505337,
     "user": {
      "displayName": "Sam Lu",
      "userId": "15789059763790170725"
     },
     "user_tz": -480
    },
    "id": "HsyfI_zoCqjq"
   },
   "outputs": [],
   "source": [
    "## 使用专家策略模型，只采样1个序列，每个序列采样30个状态动作对\n",
    "def sample_expert_data(n_episode):\n",
    "    states = []\n",
    "    actions = []\n",
    "    for episode in range(n_episode):         ## 1个序列\n",
    "        state = env.reset()      ## 环境重置的\n",
    "        if len(state)!=2*2:\n",
    "            state = state[0]\n",
    "        done = False  ## 是否已经完成\n",
    "        while not done:\n",
    "            action = ppo_agent.take_action(state)  ## 策略根据状态给出动作\n",
    "            states.append(state)\n",
    "            actions.append(action)\n",
    "            ##  环境执行动作，并反馈下一个状态、动作的奖励、是否完成、步长太长的，info\n",
    "            next_state, reward, terminated, truncated, info = env.step(action)\n",
    "            done = terminated | truncated       ## 终止或者步长太长，都会导致已经结束\n",
    "            # next_state, reward, done, _ = env.step(action)   ## 环境执行动作，并给出下一个状态、动作\n",
    "            state = next_state\n",
    "    return np.array(states), np.array(actions)  ## 分别返回状态和动作对\n",
    "\n",
    "\n",
    "_ = env.reset(seed=0)\n",
    "torch.manual_seed(0)\n",
    "random.seed(0)\n",
    "n_episode = 1\n",
    "expert_s, expert_a = sample_expert_data(n_episode)\n",
    "\n",
    "n_samples = 30  # 采样30个数据\n",
    "random_index = random.sample(range(expert_s.shape[0]), n_samples)   ## 从状态动作对内继续采样\n",
    "expert_s = expert_s[random_index]\n",
    "expert_a = expert_a[random_index]"
   ]
  },
  {
   "cell_type": "code",
   "execution_count": 3,
   "metadata": {
    "colab": {
     "base_uri": "https://localhost:8080/"
    },
    "executionInfo": {
     "elapsed": 184885,
     "status": "ok",
     "timestamp": 1649956690218,
     "user": {
      "displayName": "Sam Lu",
      "userId": "15789059763790170725"
     },
     "user_tz": -480
    },
    "id": "QLLD1U-1Cqjr",
    "outputId": "173897ed-3262-4a90-c2c2-ff125678f624"
   },
   "outputs": [
    {
     "name": "stderr",
     "output_type": "stream",
     "text": [
      "进度条: 100%|████████████████████████████████████████████████████████| 1000/1000 [01:43<00:00,  9.64it/s, return=9.440]\n"
     ]
    }
   ],
   "source": [
    "## 模仿者智能体\n",
    "class BehaviorClone:\n",
    "    def __init__(self, state_dim, hidden_dim, action_dim, lr):\n",
    "        self.policy = PolicyNet(state_dim, hidden_dim, action_dim).to(device)  ## 策略网络的\n",
    "        self.optimizer = torch.optim.Adam(self.policy.parameters(), lr=lr)  ## 优化器\n",
    "\n",
    "    ## 使用专家采样数据，模仿者学着靠拢专家策略\n",
    "    def learn(self, states, actions):\n",
    "        states = torch.tensor(states, dtype=torch.float).to(device)  ## 输入\n",
    "        actions = torch.tensor(actions).view(-1, 1).long().to(device)  ## 输出，也就是监督学习的 truth label\n",
    "        ## 拿到策略网络输出指定动作的概率的log值\n",
    "        log_probs = torch.log(self.policy(states).gather(1, actions))\n",
    "        ## 最小化 (最大似然估计值的相反数)，也就是 最大化 最大似然估计值\n",
    "        bc_loss = torch.mean(-log_probs)  # 最大似然估计\n",
    "\n",
    "        self.optimizer.zero_grad() ## 梯度置0\n",
    "        bc_loss.backward() ## 反向传播求出参数梯度\n",
    "        self.optimizer.step()  ##  使用梯度来update参数\n",
    "\n",
    "    ## 模仿者采取动作，并按照概率给出采样的动作\n",
    "    def take_action(self, state):\n",
    "        state = torch.tensor([state], dtype=torch.float).to(device)\n",
    "        probs = self.policy(state)\n",
    "        action_dist = torch.distributions.Categorical(probs)\n",
    "        action = action_dist.sample()\n",
    "        return action.item()\n",
    "\n",
    "def test_agent(agent, env, n_episode):\n",
    "    return_list = []\n",
    "    for episode in range(n_episode):\n",
    "        episode_return = 0\n",
    "        state = env.reset()\n",
    "        if len(state)!=2*2:\n",
    "            state = state[0]\n",
    "        done = False\n",
    "        while not done:\n",
    "            action = agent.take_action(state)\n",
    "            ##  环境执行动作，并反馈下一个状态、动作的奖励、是否完成、步长太长的，info\n",
    "            next_state, reward, terminated, truncated, info = env.step(action)\n",
    "            done = terminated | truncated       ## 终止或者步长太长，都会导致已经结束\n",
    "            # next_state, reward, done, _ = env.step(action)\n",
    "            state = next_state\n",
    "            episode_return += reward\n",
    "        return_list.append(episode_return)\n",
    "    return np.mean(return_list)\n",
    "\n",
    "_ = env.reset(seed=6)\n",
    "torch.manual_seed(6)\n",
    "np.random.seed(6)\n",
    "\n",
    "lr = 1e-3\n",
    "bc_agent = BehaviorClone(state_dim, hidden_dim, action_dim, lr)\n",
    "n_iterations = 1000\n",
    "batch_size = 64\n",
    "test_returns = []\n",
    "\n",
    "## 行为克隆的\n",
    "with tqdm(total=n_iterations, desc=\"进度条\") as pbar:\n",
    "    for i in range(n_iterations):\n",
    "        sample_indices = np.random.randint(low=0,\n",
    "                                           high=expert_s.shape[0],\n",
    "                                           size=batch_size)\n",
    "        bc_agent.learn(expert_s[sample_indices], expert_a[sample_indices]) ## 模仿者使用专家数据来train\n",
    "        current_return = test_agent(bc_agent, env, 5) ## 模仿者测验结果\n",
    "        test_returns.append(current_return)\n",
    "        if (i + 1) % 10 == 0:\n",
    "            pbar.set_postfix({'return': '%.3f' % np.mean(test_returns[-10:])})\n",
    "        pbar.update(1)\n",
    "\n",
    "# 进度条: 100%|██████████| 1000/1000 [00:50<00:00, 19.82it/s, return=42.000]"
   ]
  },
  {
   "cell_type": "code",
   "execution_count": 4,
   "metadata": {
    "colab": {
     "base_uri": "https://localhost:8080/",
     "height": 295
    },
    "executionInfo": {
     "elapsed": 22,
     "status": "ok",
     "timestamp": 1649956690807,
     "user": {
      "displayName": "Sam Lu",
      "userId": "15789059763790170725"
     },
     "user_tz": -480
    },
    "id": "RWdMQsYkCqjr",
    "outputId": "d235f1c4-a237-4763-852d-30f1b677a397"
   },
   "outputs": [
    {
     "data": {
      "image/png": "[encoded data removed]",
      "text/plain": [
       "<Figure size 640x480 with 1 Axes>"
      ]
     },
     "metadata": {},
     "output_type": "display_data"
    }
   ],
   "source": [
    "iteration_list = list(range(len(test_returns)))\n",
    "plt.plot(iteration_list, test_returns)\n",
    "plt.xlabel('Iterations')\n",
    "plt.ylabel('Returns')\n",
    "plt.title('BC on {}'.format(env_name))\n",
    "plt.show()"
   ]
  },
  {
   "cell_type": "code",
   "execution_count": 6,
   "metadata": {
    "executionInfo": {
     "elapsed": 19,
     "status": "ok",
     "timestamp": 1649956690808,
     "user": {
      "displayName": "Sam Lu",
      "userId": "15789059763790170725"
     },
     "user_tz": -480
    },
    "id": "QsIOztkpCqjs"
   },
   "outputs": [],
   "source": [
    "## GAIL的生成器是策略网络，上面已经给出了\n",
    "## D是判别器的，也就是用来判定给定的（状态，动作）对，目标是专家策略输出0，模仿者策略输出1，一般来说模仿者策略输出越小越好\n",
    "class Discriminator(nn.Module):\n",
    "    def __init__(self, state_dim, hidden_dim, action_dim):\n",
    "        super(Discriminator, self).__init__()\n",
    "        self.fc1 = torch.nn.Linear(state_dim + action_dim, hidden_dim)\n",
    "        self.fc2 = torch.nn.Linear(hidden_dim, 1)\n",
    "\n",
    "    def forward(self, x, a):\n",
    "        cat = torch.cat([x, a], dim=1)\n",
    "        x = F.relu(self.fc1(cat))\n",
    "        return torch.sigmoid(self.fc2(x))  ## 目标专家策略输出0，模仿者策略输出1，还可以用来做奖励函数"
   ]
  },
  {
   "cell_type": "code",
   "execution_count": 3,
   "metadata": {
    "colab": {
     "base_uri": "https://localhost:8080/"
    },
    "executionInfo": {
     "elapsed": 35526,
     "status": "ok",
     "timestamp": 1649956901165,
     "user": {
      "displayName": "Sam Lu",
      "userId": "15789059763790170725"
     },
     "user_tz": -480
    },
    "id": "GTBwvNo1Cqjs",
    "outputId": "d079ec71-95ec-43aa-b520-26bc9eb44024"
   },
   "outputs": [
    {
     "ename": "NameError",
     "evalue": "name 'env' is not defined",
     "output_type": "error",
     "traceback": [
      "\u001b[1;31m---------------------------------------------------------------------------\u001b[0m",
      "\u001b[1;31mNameError\u001b[0m                                 Traceback (most recent call last)",
      "Cell \u001b[1;32mIn[3], line 42\u001b[0m\n\u001b[0;32m     32\u001b[0m         transition_dict \u001b[38;5;241m=\u001b[39m {\n\u001b[0;32m     33\u001b[0m             \u001b[38;5;124m'\u001b[39m\u001b[38;5;124mstates\u001b[39m\u001b[38;5;124m'\u001b[39m: agent_s,\n\u001b[0;32m     34\u001b[0m             \u001b[38;5;124m'\u001b[39m\u001b[38;5;124mactions\u001b[39m\u001b[38;5;124m'\u001b[39m: agent_a,\n\u001b[1;32m   (...)\u001b[0m\n\u001b[0;32m     37\u001b[0m             \u001b[38;5;124m'\u001b[39m\u001b[38;5;124mdones\u001b[39m\u001b[38;5;124m'\u001b[39m: dones\n\u001b[0;32m     38\u001b[0m         }\n\u001b[0;32m     39\u001b[0m         \u001b[38;5;28mself\u001b[39m\u001b[38;5;241m.\u001b[39magent\u001b[38;5;241m.\u001b[39mupdate(transition_dict)  \u001b[38;5;66;03m## 模仿者 train 策略网络和价值网络，此处的强化学习算法可以使用其他的\u001b[39;00m\n\u001b[1;32m---> 42\u001b[0m _ \u001b[38;5;241m=\u001b[39m \u001b[43menv\u001b[49m\u001b[38;5;241m.\u001b[39mreset(seed\u001b[38;5;241m=\u001b[39m\u001b[38;5;241m0\u001b[39m)\n\u001b[0;32m     43\u001b[0m torch\u001b[38;5;241m.\u001b[39mmanual_seed(\u001b[38;5;241m0\u001b[39m)\n\u001b[0;32m     44\u001b[0m lr_d \u001b[38;5;241m=\u001b[39m \u001b[38;5;241m1e-3\u001b[39m\n",
      "\u001b[1;31mNameError\u001b[0m: name 'env' is not defined"
     ]
    }
   ],
   "source": [
    "class GAIL:\n",
    "    def __init__(self, agent, state_dim, action_dim, hidden_dim, lr_d):\n",
    "        self.discriminator = Discriminator(state_dim, hidden_dim,\n",
    "                                           action_dim).to(device)  ## 判别器\n",
    "        self.discriminator_optimizer = torch.optim.Adam(\n",
    "            self.discriminator.parameters(), lr=lr_d)  ## 优化器\n",
    "        self.agent = agent  ## 模仿者智能体\n",
    "\n",
    "    ## 网络的训练\n",
    "    def learn(self, expert_s, expert_a, agent_s, agent_a, next_s, dones):\n",
    "        ## 初始化需要的变量\n",
    "        expert_states = torch.tensor(expert_s, dtype=torch.float).to(device)  ## 专家输入的状态\n",
    "        expert_actions = torch.tensor(expert_a).to(device)    ## 专家输出的动作\n",
    "        agent_states = torch.tensor(agent_s, dtype=torch.float).to(device)  ##  模仿者输入状态\n",
    "        agent_actions = torch.tensor(agent_a).to(device)  ## 模仿者输入动作\n",
    "        expert_actions = F.one_hot(expert_actions, num_classes=2).float()   ## 专家动作来 one-hot 标签化\n",
    "        agent_actions = F.one_hot(agent_actions, num_classes=2).float()  ##  模仿者动作 one-hot 标签化\n",
    "\n",
    "        ## D判别器给出专家（状态，动作）对的概率，目标是靠拢 0\n",
    "        expert_prob = self.discriminator(expert_states, expert_actions)\n",
    "        ## D判别器给出模仿者（状态，动作）对的概率，目标是靠拢 1\n",
    "        agent_prob = self.discriminator(agent_states, agent_actions) \n",
    "        ## D判别器的目标是，专家的靠拢 0，模仿者靠拢 1\n",
    "        discriminator_loss = nn.BCELoss()(\n",
    "            agent_prob, torch.ones_like(agent_prob)) + nn.BCELoss()(\n",
    "                expert_prob, torch.zeros_like(expert_prob))\n",
    "        self.discriminator_optimizer.zero_grad()  ## 梯度置0\n",
    "        discriminator_loss.backward()  ## 反向传播梯度\n",
    "        self.discriminator_optimizer.step()  ## 使用梯度来update参数\n",
    "        ## 损失函数来做奖励，D判别器给出模仿者的概率，越小越好的，专家的才会越小，说明此时判别器已经误判了，不能准确区分专家和模仿者的策略。\n",
    "        rewards = -torch.log(agent_prob).detach().cpu().numpy()\n",
    "        transition_dict = {\n",
    "            'states': agent_s,\n",
    "            'actions': agent_a,\n",
    "            'rewards': rewards,\n",
    "            'next_states': next_s,\n",
    "            'dones': dones\n",
    "        }\n",
    "        self.agent.update(transition_dict)  ## 模仿者 train 策略网络和价值网络，此处的强化学习算法可以使用其他的\n",
    "\n",
    "\n",
    "_ = env.reset(seed=0)\n",
    "torch.manual_seed(0)\n",
    "lr_d = 1e-3\n",
    "## 模仿者智能体\n",
    "agent = PPO(state_dim, hidden_dim, action_dim, actor_lr, critic_lr, lmbda,\n",
    "            epochs, eps, gamma, device)\n",
    "## 生成式对抗模仿\n",
    "gail = GAIL(agent, state_dim, action_dim, hidden_dim, lr_d)\n",
    "n_episode = 500\n",
    "return_list = []\n",
    "\n",
    "## 生成式对抗模仿学习\n",
    "with tqdm(total=n_episode, desc=\"进度条\") as pbar:\n",
    "    for i in range(n_episode):\n",
    "        episode_return = 0\n",
    "        state = env.reset()\n",
    "        if len(state)!=2*2:\n",
    "            state = state[0]\n",
    "        done = False\n",
    "        state_list = []\n",
    "        action_list = []\n",
    "        next_state_list = []\n",
    "        done_list = []\n",
    "        while not done:\n",
    "            action = agent.take_action(state)\n",
    "            ##  环境执行动作，并反馈下一个状态、动作的奖励、是否完成、步长太长的，info\n",
    "            next_state, reward, terminated, truncated, info = env.step(action)\n",
    "            done = terminated | truncated       ## 终止或者步长太长，都会导致已经结束\n",
    "            # next_state, reward, done, _ = env.step(action)\n",
    "            state_list.append(state)\n",
    "            action_list.append(action)\n",
    "            next_state_list.append(next_state)\n",
    "            done_list.append(done)\n",
    "            state = next_state\n",
    "            episode_return += reward\n",
    "        return_list.append(episode_return)\n",
    "        ## 生成式对抗模仿学习\n",
    "        ## 使用了专家策略模型采样的数据 expert_s, expert_a\n",
    "        ## 以及模仿者智能体 采样的数据 state_list，action_list，next_state_list, done_list来train\n",
    "        gail.learn(expert_s, expert_a, state_list, action_list,\n",
    "                   next_state_list, done_list)\n",
    "        if (i + 1) % 10 == 0:\n",
    "            pbar.set_postfix({'return': '%.3f' % np.mean(return_list[-10:])})\n",
    "        pbar.update(1)\n",
    "\n",
    "# 进度条: 100%|██████████| 500/500 [04:08<00:00,  2.01it/s, return=200.000]"
   ]
  },
  {
   "cell_type": "code",
   "execution_count": 9,
   "metadata": {
    "colab": {
     "base_uri": "https://localhost:8080/",
     "height": 295
    },
    "executionInfo": {
     "elapsed": 7,
     "status": "ok",
     "timestamp": 1649956902771,
     "user": {
      "displayName": "Sam Lu",
      "userId": "15789059763790170725"
     },
     "user_tz": -480
    },
    "id": "hDZQKhf-Cqjt",
    "outputId": "7a42b3ea-89cc-4872-df47-98910bd8263f"
   },
   "outputs": [
    {
     "data": {
      "image/png": "[encoded data removed]",
      "text/plain": [
       "<Figure size 432x288 with 1 Axes>"
      ]
     },
     "metadata": {
      "needs_background": "light"
     },
     "output_type": "display_data"
    }
   ],
   "source": [
    "iteration_list = list(range(len(return_list)))\n",
    "plt.plot(iteration_list, return_list)\n",
    "plt.xlabel('Episodes')\n",
    "plt.ylabel('Returns')\n",
    "plt.title('GAIL on {}'.format(env_name))\n",
    "plt.show()"
   ]
  }
 ],
 "metadata": {
  "colab": {
   "collapsed_sections": [],
   "name": "第15章-模仿学习.ipynb",
   "provenance": []
  },
  "kernelspec": {
   "display_name": "Python 3 (ipykernel)",
   "language": "python",
   "name": "python3"
  },
  "language_info": {
   "codemirror_mode": {
    "name": "ipython",
    "version": 3
   },
   "file_extension": ".py",
   "mimetype": "text/x-python",
   "name": "python",
   "nbconvert_exporter": "python",
   "pygments_lexer": "ipython3",
   "version": "3.10.12"
  }
 },
 "nbformat": 4,
 "nbformat_minor": 4
}
